{
 "metadata": {
  "name": "",
  "signature": "sha256:33ad3f13c4c4a064c7ce66c95ee34f9adeefc027709f3c75841955a947d0bbde"
 },
 "nbformat": 3,
 "nbformat_minor": 0,
 "worksheets": []
}