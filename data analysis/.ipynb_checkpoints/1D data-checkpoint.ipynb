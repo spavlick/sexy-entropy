{
 "metadata": {
  "name": "",
  "signature": "sha256:9361a82b8761a6b40c3f7cd2aee247038206438d3c9e5edacd8fbb239eec95d5"
 },
 "nbformat": 3,
 "nbformat_minor": 0,
 "worksheets": [
  {
   "cells": [
    {
     "cell_type": "code",
     "collapsed": false,
     "input": [
      "import numpy\n",
      "from openmc.statepoint import StatePoint\n",
      "import uLSIF\n",
      "import matplotlib.pyplot as plt\n",
      "%matplotlib inline"
     ],
     "language": "python",
     "metadata": {},
     "outputs": [],
     "prompt_number": 45
    },
    {
     "cell_type": "code",
     "collapsed": false,
     "input": [
      "s=StatePoint('statepoint-data/1D/statepoint.100.h5')"
     ],
     "language": "python",
     "metadata": {},
     "outputs": [],
     "prompt_number": 46
    },
    {
     "cell_type": "code",
     "collapsed": false,
     "input": [
      "data=s.source"
     ],
     "language": "python",
     "metadata": {},
     "outputs": [],
     "prompt_number": 47
    },
    {
     "cell_type": "code",
     "collapsed": false,
     "input": [
      "pos=[e[1][0] for e in data]\n",
      "pos=numpy.reshape(pos,(1,len(pos)))"
     ],
     "language": "python",
     "metadata": {},
     "outputs": [],
     "prompt_number": 48
    },
    {
     "cell_type": "code",
     "collapsed": false,
     "input": [
      "wh_x_de,wh_x_nu,wh_x_disp=uLSIF.uLSIF(pos[0:200],pos[0:200],fold=5,b=50)"
     ],
     "language": "python",
     "metadata": {},
     "outputs": [],
     "prompt_number": 49
    },
    {
     "cell_type": "code",
     "collapsed": false,
     "input": [
      "print min(wh_x_de.flatten()), max(wh_x_de.flatten())"
     ],
     "language": "python",
     "metadata": {},
     "outputs": [
      {
       "output_type": "stream",
       "stream": "stdout",
       "text": [
        "0.994112828584 0.999683585605\n"
       ]
      }
     ],
     "prompt_number": 50
    },
    {
     "cell_type": "code",
     "collapsed": false,
     "input": [
      "fig=plt.figure()\n",
      "plt.hist(pos.flatten(),bins=30)"
     ],
     "language": "python",
     "metadata": {},
     "outputs": [
      {
       "metadata": {},
       "output_type": "pyout",
       "prompt_number": 54,
       "text": [
        "(array([  43.,   44.,   55.,   53.,   42.,   69.,   45.,   60.,   51.,\n",
        "          55.,   50.,   56.,   52.,   60.,   63.,   67.,   64.,   63.,\n",
        "          50.,   54.,   70.,   95.,   86.,   87.,   80.,  103.,  101.,\n",
        "          93.,  100.,   89.]),\n",
        " array([  7.13689355e-04,   6.73423135e-02,   1.33970938e-01,\n",
        "          2.00599562e-01,   2.67228186e-01,   3.33856810e-01,\n",
        "          4.00485434e-01,   4.67114058e-01,   5.33742682e-01,\n",
        "          6.00371306e-01,   6.66999931e-01,   7.33628555e-01,\n",
        "          8.00257179e-01,   8.66885803e-01,   9.33514427e-01,\n",
        "          1.00014305e+00,   1.06677168e+00,   1.13340030e+00,\n",
        "          1.20002892e+00,   1.26665755e+00,   1.33328617e+00,\n",
        "          1.39991480e+00,   1.46654342e+00,   1.53317204e+00,\n",
        "          1.59980067e+00,   1.66642929e+00,   1.73305792e+00,\n",
        "          1.79968654e+00,   1.86631516e+00,   1.93294379e+00,\n",
        "          1.99957241e+00]),\n",
        " <a list of 30 Patch objects>)"
       ]
      },
      {
       "metadata": {},
       "output_type": "display_data",
       "png": "[encoded data removed]",
       "text": [
        "<matplotlib.figure.Figure at 0x13011438>"
       ]
      }
     ],
     "prompt_number": 54
    },
    {
     "cell_type": "code",
     "collapsed": false,
     "input": [
      "print min(pos.flatten()), max(pos.flatten())"
     ],
     "language": "python",
     "metadata": {},
     "outputs": [
      {
       "output_type": "stream",
       "stream": "stdout",
       "text": [
        "0.000713689354806 1.99957241298\n"
       ]
      }
     ],
     "prompt_number": 52
    },
    {
     "cell_type": "code",
     "collapsed": false,
     "input": [
      "data"
     ],
     "language": "python",
     "metadata": {},
     "outputs": [
      {
       "metadata": {},
       "output_type": "pyout",
       "prompt_number": 53,
       "text": [
        "array([ (1.0, [0.9864425341712408, 6.2246141770012535, 4.322516457428506], [-0.039826365676688735, -0.9332946161400851, -0.35689637162756066], 5.046142058334364),\n",
        "       (1.0, [0.6912465450960873, 8.99415521779542, 7.690047823928686], [-0.1301738484102647, 0.962187871765532, -0.23926819391088644], 1.7213027328484218),\n",
        "       (1.0, [0.6912465450960873, 8.99415521779542, 7.690047823928686], [-0.8732525399961738, 0.39796624276626624, -0.2811634240237021], 1.8436103283654157),\n",
        "       ...,\n",
        "       (1.0, [1.3617319605548062, 7.682758653749005, 5.759795602062775], [-0.9021316811916568, 0.23778978021037597, 0.36002006918756074], 0.3460902865187933),\n",
        "       (1.0, [1.1887093410755691, 5.088136743636861, 6.483284482800331], [-0.08204644081430357, -0.7400318278454479, -0.6675487063319279], 3.1280031432534807),\n",
        "       (1.0, [1.1887093410755691, 5.088136743636861, 6.483284482800331], [0.8773914825599196, -0.45633997124342085, 0.14811487763509834], 1.7546644806212333)], \n",
        "      dtype=[('wgt', '<f8'), ('xyz', '<f8', (3,)), ('uvw', '<f8', (3,)), ('E', '<f8')])"
       ]
      }
     ],
     "prompt_number": 53
    },
    {
     "cell_type": "code",
     "collapsed": false,
     "input": [],
     "language": "python",
     "metadata": {},
     "outputs": [],
     "prompt_number": 53
    },
    {
     "cell_type": "code",
     "collapsed": false,
     "input": [],
     "language": "python",
     "metadata": {},
     "outputs": [],
     "prompt_number": 53
    },
    {
     "cell_type": "code",
     "collapsed": false,
     "input": [],
     "language": "python",
     "metadata": {},
     "outputs": [],
     "prompt_number": 53
    },
    {
     "cell_type": "code",
     "collapsed": false,
     "input": [],
     "language": "python",
     "metadata": {},
     "outputs": [],
     "prompt_number": 53
    }
   ],
   "metadata": {}
  }
 ]
}