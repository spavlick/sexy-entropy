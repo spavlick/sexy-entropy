{
 "metadata": {
  "name": "",
  "signature": "sha256:a90f68ce0ee49745cae13fb4952c4c915979bce5119d6727075c6b3889d588d2"
 },
 "nbformat": 3,
 "nbformat_minor": 0,
 "worksheets": [
  {
   "cells": [
    {
     "cell_type": "code",
     "collapsed": false,
     "input": [
      "import openmc.statepoint"
     ],
     "language": "python",
     "metadata": {},
     "outputs": [],
     "prompt_number": 1
    },
    {
     "cell_type": "code",
     "collapsed": false,
     "input": [
      "import uLSIF\n",
      "import numpy\n",
      "import matplotlib.pyplot as plt"
     ],
     "language": "python",
     "metadata": {},
     "outputs": [],
     "prompt_number": 6
    },
    {
     "cell_type": "code",
     "collapsed": false,
     "input": [
      "sp=openmc.statepoint.StatePoint('statepoint.20.h5')\n",
      "a=sp.source"
     ],
     "language": "python",
     "metadata": {},
     "outputs": [],
     "prompt_number": 3
    },
    {
     "cell_type": "code",
     "collapsed": false,
     "input": [
      "data=numpy.array([e[1][0] for e in a])\n",
      "data=numpy.reshape(data,(1,len(data)))"
     ],
     "language": "python",
     "metadata": {},
     "outputs": [],
     "prompt_number": 4
    },
    {
     "cell_type": "code",
     "collapsed": false,
     "input": [
      "wh_x_de,wh_x_nu,wh_x_re=uLSIF.uLSIF(data,data,fold=5,b=100)"
     ],
     "language": "python",
     "metadata": {},
     "outputs": [],
     "prompt_number": 5
    },
    {
     "cell_type": "code",
     "collapsed": false,
     "input": [
      "fig=plt.figure()\n",
      "\n",
      "plt.plot(data.flatten(),wh_x_de.flatten(),'bo',linewidth=1,markersize=8)\n",
      "plt.plot(data.flatten(),wh_x_nu.flatten(),'mo',linewidth=1,markersize=8)\n",
      "\n",
      "\n",
      "plt.legend(['de','nu'])\n",
      "plt.xlabel('x')\n",
      "\n",
      "plt.grid()\n",
      "plt.show()"
     ],
     "language": "python",
     "metadata": {},
     "outputs": []
    },
    {
     "cell_type": "code",
     "collapsed": false,
     "input": [],
     "language": "python",
     "metadata": {},
     "outputs": []
    }
   ],
   "metadata": {}
  }
 ]
}